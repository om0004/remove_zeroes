{
 "cells": [
  {
   "cell_type": "code",
   "execution_count": 59,
   "metadata": {},
   "outputs": [
    {
     "name": "stdout",
     "output_type": "stream",
     "text": [
      "myname004.TXT\n",
      "myname4.TXT\n",
      "om400.TXT\n",
      "om4.TXT\n",
      "what004if008.txt\n",
      "what4if8.txt\n",
      "whatis.TXT\n",
      "whatis.TXT\n"
     ]
    }
   ],
   "source": [
    "import os,re,shutil\n",
    "os.chdir('C:\\\\Users\\\\omver\\\\Desktop\\\\pyth-sample')\n",
    "pattern=re.compile(r'''(\n",
    "([^0]+)\n",
    ")''',re.VERBOSE)\n",
    "for file in os.listdir('C:\\\\Users\\\\omver\\\\Desktop\\\\pyth-sample'):\n",
    "    print(file)\n",
    "    match=pattern.findall(file)\n",
    "    z=''\n",
    "    try:\n",
    "        for i in range(len(match)):\n",
    "            z=z+match[i][0]\n",
    "        print(z)   \n",
    "        shutil.move(file,z)\n",
    "    except:\n",
    "        z=file;\n",
    "        print(z)"
   ]
  }
 ],
 "metadata": {
  "kernelspec": {
   "display_name": "Python 3",
   "language": "python",
   "name": "python3"
  },
  "language_info": {
   "codemirror_mode": {
    "name": "ipython",
    "version": 3
   },
   "file_extension": ".py",
   "mimetype": "text/x-python",
   "name": "python",
   "nbconvert_exporter": "python",
   "pygments_lexer": "ipython3",
   "version": "3.9.0"
  }
 },
 "nbformat": 4,
 "nbformat_minor": 4
}
